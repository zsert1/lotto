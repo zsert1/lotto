{
 "cells": [
  {
   "cell_type": "code",
   "execution_count": 10,
   "id": "initial_id",
   "metadata": {
    "collapsed": true,
    "ExecuteTime": {
     "end_time": "2024-03-14T17:10:44.656080Z",
     "start_time": "2024-03-14T17:08:17.117245Z"
    }
   },
   "outputs": [
    {
     "data": {
      "text/plain": "  0%|          | 0/611 [00:00<?, ?it/s]",
      "application/vnd.jupyter.widget-view+json": {
       "version_major": 2,
       "version_minor": 0,
       "model_id": "51302e935e2540d0a36ea83e6fea3600"
      }
     },
     "metadata": {},
     "output_type": "display_data"
    },
    {
     "data": {
      "text/plain": "          date  num1  num2  num3  num4  num5  num6  bonus\n0   2012-06-30     3     4    12    20    24    34     41\n1   2012-07-07     1     4    10    17    31    42      2\n2   2012-07-14     6    22    28    32    34    40     26\n3   2012-07-21     1     5    27    30    34    36     40\n4   2012-07-28     6    14    22    26    43    44     31\n..         ...   ...   ...   ...   ...   ...   ...    ...\n606 2024-02-10     1     3     4    29    42    45     36\n607 2024-02-17     6    14    30    31    40    41     29\n608 2024-02-24     7    19    26    37    39    44     27\n609 2024-03-02    10    12    13    19    33    40      2\n610 2024-03-09     3     7    11    20    22    41     24\n\n[611 rows x 8 columns]",
      "text/html": "<div>\n<style scoped>\n    .dataframe tbody tr th:only-of-type {\n        vertical-align: middle;\n    }\n\n    .dataframe tbody tr th {\n        vertical-align: top;\n    }\n\n    .dataframe thead th {\n        text-align: right;\n    }\n</style>\n<table border=\"1\" class=\"dataframe\">\n  <thead>\n    <tr style=\"text-align: right;\">\n      <th></th>\n      <th>date</th>\n      <th>num1</th>\n      <th>num2</th>\n      <th>num3</th>\n      <th>num4</th>\n      <th>num5</th>\n      <th>num6</th>\n      <th>bonus</th>\n    </tr>\n  </thead>\n  <tbody>\n    <tr>\n      <th>0</th>\n      <td>2012-06-30</td>\n      <td>3</td>\n      <td>4</td>\n      <td>12</td>\n      <td>20</td>\n      <td>24</td>\n      <td>34</td>\n      <td>41</td>\n    </tr>\n    <tr>\n      <th>1</th>\n      <td>2012-07-07</td>\n      <td>1</td>\n      <td>4</td>\n      <td>10</td>\n      <td>17</td>\n      <td>31</td>\n      <td>42</td>\n      <td>2</td>\n    </tr>\n    <tr>\n      <th>2</th>\n      <td>2012-07-14</td>\n      <td>6</td>\n      <td>22</td>\n      <td>28</td>\n      <td>32</td>\n      <td>34</td>\n      <td>40</td>\n      <td>26</td>\n    </tr>\n    <tr>\n      <th>3</th>\n      <td>2012-07-21</td>\n      <td>1</td>\n      <td>5</td>\n      <td>27</td>\n      <td>30</td>\n      <td>34</td>\n      <td>36</td>\n      <td>40</td>\n    </tr>\n    <tr>\n      <th>4</th>\n      <td>2012-07-28</td>\n      <td>6</td>\n      <td>14</td>\n      <td>22</td>\n      <td>26</td>\n      <td>43</td>\n      <td>44</td>\n      <td>31</td>\n    </tr>\n    <tr>\n      <th>...</th>\n      <td>...</td>\n      <td>...</td>\n      <td>...</td>\n      <td>...</td>\n      <td>...</td>\n      <td>...</td>\n      <td>...</td>\n      <td>...</td>\n    </tr>\n    <tr>\n      <th>606</th>\n      <td>2024-02-10</td>\n      <td>1</td>\n      <td>3</td>\n      <td>4</td>\n      <td>29</td>\n      <td>42</td>\n      <td>45</td>\n      <td>36</td>\n    </tr>\n    <tr>\n      <th>607</th>\n      <td>2024-02-17</td>\n      <td>6</td>\n      <td>14</td>\n      <td>30</td>\n      <td>31</td>\n      <td>40</td>\n      <td>41</td>\n      <td>29</td>\n    </tr>\n    <tr>\n      <th>608</th>\n      <td>2024-02-24</td>\n      <td>7</td>\n      <td>19</td>\n      <td>26</td>\n      <td>37</td>\n      <td>39</td>\n      <td>44</td>\n      <td>27</td>\n    </tr>\n    <tr>\n      <th>609</th>\n      <td>2024-03-02</td>\n      <td>10</td>\n      <td>12</td>\n      <td>13</td>\n      <td>19</td>\n      <td>33</td>\n      <td>40</td>\n      <td>2</td>\n    </tr>\n    <tr>\n      <th>610</th>\n      <td>2024-03-09</td>\n      <td>3</td>\n      <td>7</td>\n      <td>11</td>\n      <td>20</td>\n      <td>22</td>\n      <td>41</td>\n      <td>24</td>\n    </tr>\n  </tbody>\n</table>\n<p>611 rows × 8 columns</p>\n</div>"
     },
     "execution_count": 10,
     "metadata": {},
     "output_type": "execute_result"
    }
   ],
   "source": [
    "import warnings\n",
    "import requests\n",
    "from datetime import datetime\n",
    "from tqdm.notebook import tqdm\n",
    "import pandas as pd\n",
    "from bs4 import BeautifulSoup\n",
    "\n",
    "\n",
    "# wanring 메시지 출력 안함\n",
    "warnings.filterwarnings('ignore')\n",
    "\n",
    "# 최신 회차 크롤링 함수\n",
    "def get_max_count():\n",
    "    url = 'https://dhlottery.co.kr/common.do?method=main'\n",
    "    html = requests.get(url).text\n",
    "    headers={\"User-Agent\":\"Mozilla/5.0 (Macintosh; Intel Mac OS X 10_15_7) AppleWebKit/537.36 (KHTML, like Gecko) Chrome/122.0.0.0 Safari/537.36\"}\n",
    "    r=requests.get(url,headers=headers)\n",
    "    soup=BeautifulSoup(r.content,'html.parser')\n",
    "    max_count = int(soup.find('strong', id='lottoDrwNo').text)\n",
    "    return max_count\n",
    "\n",
    "# 로또 당첨번호 정보 조회 함수\n",
    "def crawling_lotto(count):\n",
    "    # url에 회차를 실어 페이지 조회\n",
    "    url = f'https://dhlottery.co.kr/gameResult.do?method=byWin&drwNo={count}'\n",
    "    headers={\"User-Agent\":\"Mozilla/5.0 (Macintosh; Intel Mac OS X 10_15_7) AppleWebKit/537.36 (KHTML, like Gecko) Chrome/122.0.0.0 Safari/537.36\"}\n",
    "    # url=\"https://www.transfermarkt.com/spieler-statistik/wertvollstespieler/marktwertetop\"\n",
    "    r=requests.get(url,headers=headers)\n",
    "    # html = requests.get(url).text\n",
    "    soup=BeautifulSoup(r.content,'html.parser')\n",
    "    \n",
    "    date = datetime.strptime(soup.find('p', class_='desc').text, '(%Y년 %m월 %d일 추첨)')\n",
    "    win_number = [int(i) for i in soup.find('div', class_='num win').find('p').text.strip().split('\\n')]\n",
    "    bonus_number = int(soup.find('div', class_='num bonus').find('p').text.strip())\n",
    "    \n",
    "    return {\n",
    "        'date': date, \n",
    "        'win_number': win_number, \n",
    "        'bonus_number': bonus_number\n",
    "    }\n",
    "\n",
    "# 최신 회차 가져오기\n",
    "max_count = get_max_count()\n",
    "# 전체 회차 크롤링\n",
    "data = pd.DataFrame()\n",
    "list=[]\n",
    "for i in tqdm(range(500, max_count+1)):\n",
    "    result = crawling_lotto(i)\n",
    "    data = data._append({'date': result['date'],\n",
    "                        'num1': result['win_number'][0],\n",
    "                        'num2': result['win_number'][1],\n",
    "                        'num3': result['win_number'][2],\n",
    "                        'num4': result['win_number'][3],\n",
    "                        'num5': result['win_number'][4],\n",
    "                        'num6': result['win_number'][5],\n",
    "                        'bonus': result['bonus_number'],\n",
    "                       }, ignore_index=True)\n",
    "data"
   ]
  },
  {
   "cell_type": "code",
   "outputs": [],
   "source": [],
   "metadata": {
    "collapsed": false,
    "ExecuteTime": {
     "end_time": "2024-03-14T17:13:04.810929Z",
     "start_time": "2024-03-14T17:13:04.804213Z"
    }
   },
   "id": "b6332f33de224088",
   "execution_count": 11
  },
  {
   "cell_type": "code",
   "outputs": [
    {
     "data": {
      "text/plain": "0       3\n1       1\n2       6\n3       1\n4       6\n       ..\n606     1\n607     6\n608     7\n609    10\n610     3\nName: num1, Length: 611, dtype: int64"
     },
     "execution_count": 14,
     "metadata": {},
     "output_type": "execute_result"
    }
   ],
   "source": [
    "data['num1']"
   ],
   "metadata": {
    "collapsed": false,
    "ExecuteTime": {
     "end_time": "2024-03-14T17:17:17.954649Z",
     "start_time": "2024-03-14T17:17:17.944415Z"
    }
   },
   "id": "9ebd219d556aff1d",
   "execution_count": 14
  },
  {
   "cell_type": "code",
   "outputs": [],
   "source": [
    "from collections import Counter"
   ],
   "metadata": {
    "collapsed": false,
    "ExecuteTime": {
     "end_time": "2024-03-14T17:18:52.364189Z",
     "start_time": "2024-03-14T17:18:52.361640Z"
    }
   },
   "id": "668213f86c4b0840",
   "execution_count": 15
  },
  {
   "cell_type": "code",
   "outputs": [],
   "source": [
    "number_counts1 = Counter(data['num1'])\n",
    "number_counts2 = Counter(data['num2'])\n",
    "number_counts3 = Counter(data['num3'])\n",
    "number_counts4 = Counter(data['num4'])\n",
    "number_counts5 = Counter(data['num5'])\n",
    "number_counts6 = Counter(data['num6'])\n",
    "number_counts7 = Counter(data['bonus'])\n",
    "\n"
   ],
   "metadata": {
    "collapsed": false,
    "ExecuteTime": {
     "end_time": "2024-03-14T17:23:21.692462Z",
     "start_time": "2024-03-14T17:23:21.683932Z"
    }
   },
   "id": "1fc81bc8a9ea1fcb",
   "execution_count": 18
  },
  {
   "cell_type": "code",
   "outputs": [
    {
     "data": {
      "text/plain": "  Number  Max_Number  Count\n0   num1           1     78\n1   num2           7     45\n2   num3          13     38\n3   num4          26     33\n4   num5          34     53\n5   num6          45     88\n6  bonus          12     19",
      "text/html": "<div>\n<style scoped>\n    .dataframe tbody tr th:only-of-type {\n        vertical-align: middle;\n    }\n\n    .dataframe tbody tr th {\n        vertical-align: top;\n    }\n\n    .dataframe thead th {\n        text-align: right;\n    }\n</style>\n<table border=\"1\" class=\"dataframe\">\n  <thead>\n    <tr style=\"text-align: right;\">\n      <th></th>\n      <th>Number</th>\n      <th>Max_Number</th>\n      <th>Count</th>\n    </tr>\n  </thead>\n  <tbody>\n    <tr>\n      <th>0</th>\n      <td>num1</td>\n      <td>1</td>\n      <td>78</td>\n    </tr>\n    <tr>\n      <th>1</th>\n      <td>num2</td>\n      <td>7</td>\n      <td>45</td>\n    </tr>\n    <tr>\n      <th>2</th>\n      <td>num3</td>\n      <td>13</td>\n      <td>38</td>\n    </tr>\n    <tr>\n      <th>3</th>\n      <td>num4</td>\n      <td>26</td>\n      <td>33</td>\n    </tr>\n    <tr>\n      <th>4</th>\n      <td>num5</td>\n      <td>34</td>\n      <td>53</td>\n    </tr>\n    <tr>\n      <th>5</th>\n      <td>num6</td>\n      <td>45</td>\n      <td>88</td>\n    </tr>\n    <tr>\n      <th>6</th>\n      <td>bonus</td>\n      <td>12</td>\n      <td>19</td>\n    </tr>\n  </tbody>\n</table>\n</div>"
     },
     "execution_count": 23,
     "metadata": {},
     "output_type": "execute_result"
    }
   ],
   "source": [
    "# max_num1 = max(number_counts1, key=number_counts1.get)\n",
    "# max_num2 = max(number_counts2, key=number_counts2.get)\n",
    "# max_num3 = max(number_counts3, key=number_counts3.get)\n",
    "# max_num4 = max(number_counts4, key=number_counts4.get)\n",
    "# max_num5 = max(number_counts5, key=number_counts5.get)\n",
    "# max_num6 = max(number_counts6, key=number_counts6.get)\n",
    "# max_bonus = max(number_counts7, key=number_counts7.get)\n",
    "# \n",
    "# # 각 필드에서 앞에서 찾은 숫자가 나타난 횟수를 찾습니다.\n",
    "# max_num1_count = number_counts1[max_num1]\n",
    "# max_num2_count = number_counts2[max_num2]\n",
    "# max_num3_count = number_counts3[max_num3]\n",
    "# max_num4_count = number_counts4[max_num4]\n",
    "# max_num5_count = number_counts5[max_num5]\n",
    "# max_num6_count = number_counts6[max_num6]\n",
    "# max_bonus_count = number_counts7[max_bonus]\n",
    "# \n",
    "# # 이러한 정보들로 구성된 데이터프레임을 만듭니다.\n",
    "# df_final = pd.DataFrame({\n",
    "#     'Number': ['num1', 'num2', 'num3', 'num4', 'num5', 'num6', 'bonus'],\n",
    "#     'Max_Number': [max_num1, max_num2, max_num3, max_num4, max_num5, max_num6, max_bonus],\n",
    "#     'Count': [max_num1_count, max_num2_count, max_num3_count, max_num4_count, max_num5_count, max_num6_count, max_bonus_count]\n",
    "# })\n",
    "# df_final"
   ],
   "metadata": {
    "collapsed": false,
    "ExecuteTime": {
     "end_time": "2024-03-14T17:30:09.487955Z",
     "start_time": "2024-03-14T17:30:09.479796Z"
    }
   },
   "id": "b44c7a66b2299f88",
   "execution_count": 23
  },
  {
   "cell_type": "code",
   "outputs": [
    {
     "data": {
      "text/plain": "   num1  num2  num3  num4  num5  num6  bon\n0     1     7    13    26    34    45   12\n1     2    10    18    24    39    44   32\n2     3    12    19    33    38    43   24\n3     6     8    12    23    33    42   30\n4     4    18    16    31    40    41    6\n5     5    11    20    30    36    40    2\n6     7     6    17    32    37    39   31\n7     8    14    22    27    35    38    4\n8    12    15    15    21    42    36   10",
      "text/html": "<div>\n<style scoped>\n    .dataframe tbody tr th:only-of-type {\n        vertical-align: middle;\n    }\n\n    .dataframe tbody tr th {\n        vertical-align: top;\n    }\n\n    .dataframe thead th {\n        text-align: right;\n    }\n</style>\n<table border=\"1\" class=\"dataframe\">\n  <thead>\n    <tr style=\"text-align: right;\">\n      <th></th>\n      <th>num1</th>\n      <th>num2</th>\n      <th>num3</th>\n      <th>num4</th>\n      <th>num5</th>\n      <th>num6</th>\n      <th>bon</th>\n    </tr>\n  </thead>\n  <tbody>\n    <tr>\n      <th>0</th>\n      <td>1</td>\n      <td>7</td>\n      <td>13</td>\n      <td>26</td>\n      <td>34</td>\n      <td>45</td>\n      <td>12</td>\n    </tr>\n    <tr>\n      <th>1</th>\n      <td>2</td>\n      <td>10</td>\n      <td>18</td>\n      <td>24</td>\n      <td>39</td>\n      <td>44</td>\n      <td>32</td>\n    </tr>\n    <tr>\n      <th>2</th>\n      <td>3</td>\n      <td>12</td>\n      <td>19</td>\n      <td>33</td>\n      <td>38</td>\n      <td>43</td>\n      <td>24</td>\n    </tr>\n    <tr>\n      <th>3</th>\n      <td>6</td>\n      <td>8</td>\n      <td>12</td>\n      <td>23</td>\n      <td>33</td>\n      <td>42</td>\n      <td>30</td>\n    </tr>\n    <tr>\n      <th>4</th>\n      <td>4</td>\n      <td>18</td>\n      <td>16</td>\n      <td>31</td>\n      <td>40</td>\n      <td>41</td>\n      <td>6</td>\n    </tr>\n    <tr>\n      <th>5</th>\n      <td>5</td>\n      <td>11</td>\n      <td>20</td>\n      <td>30</td>\n      <td>36</td>\n      <td>40</td>\n      <td>2</td>\n    </tr>\n    <tr>\n      <th>6</th>\n      <td>7</td>\n      <td>6</td>\n      <td>17</td>\n      <td>32</td>\n      <td>37</td>\n      <td>39</td>\n      <td>31</td>\n    </tr>\n    <tr>\n      <th>7</th>\n      <td>8</td>\n      <td>14</td>\n      <td>22</td>\n      <td>27</td>\n      <td>35</td>\n      <td>38</td>\n      <td>4</td>\n    </tr>\n    <tr>\n      <th>8</th>\n      <td>12</td>\n      <td>15</td>\n      <td>15</td>\n      <td>21</td>\n      <td>42</td>\n      <td>36</td>\n      <td>10</td>\n    </tr>\n  </tbody>\n</table>\n</div>"
     },
     "execution_count": 30,
     "metadata": {},
     "output_type": "execute_result"
    }
   ],
   "source": [
    "# 각 필드에서 두 번째로 빈번하게 나타난 숫자를 찾습니다.\n",
    "num1=[]\n",
    "num2=[]\n",
    "num3=[]\n",
    "num4=[]\n",
    "num5=[]\n",
    "num6=[]\n",
    "bon=[]\n",
    "for i in range(1,10):\n",
    "  num1.append(number_counts1.most_common(i)[-1][0])\n",
    "  num2.append(number_counts2.most_common(i)[-1][0])\n",
    "  num3.append(number_counts3.most_common(i)[-1][0])\n",
    "  num4.append(number_counts4.most_common(i)[-1][0])\n",
    "  num5.append(number_counts5.most_common(i)[-1][0])\n",
    "  num6.append(number_counts6.most_common(i)[-1][0])\n",
    "  bon.append(number_counts7.most_common(i)[-1][0])\n",
    "  # second_max_num1 = number_counts1.most_common(i)[-1]\n",
    "  # second_max_num2 = number_counts2.most_common(i)[-1]\n",
    "  # second_max_num3 = number_counts3.most_common(i)[-1]\n",
    "  # second_max_num4 = number_counts4.most_common(i)[-1]\n",
    "  # second_max_num5 = number_counts5.most_common(i)[-1]\n",
    "  # second_max_num6 = number_counts6.most_common(i)[-1]\n",
    "  # second_max_bonus = number_counts7.most_common(i)[-1]\n",
    "\n",
    "# 찾은 숫자와 빈도수를 데이터 프레임으로 만듭니다.\n",
    "#   df_second_final = pd.DataFrame({\n",
    "#     'Number': ['num1', 'num2', 'num3', 'num4', 'num5', 'num6', 'bonus'],\n",
    "#     'Second_Max_Number': [second_max_num1[0], second_max_num2[0], second_max_num3[0], second_max_num4[0], second_max_num5[0], second_max_num6[0], second_max_bonus[0]],\n",
    "#   })\n",
    "lottodf=pd.DataFrame({\"num1\":num1,\"num2\":num2,\"num3\":num3,\"num4\":num4,\"num5\":num5,\"num6\":num6,\"bon\":bon})\n",
    "lottodf"
   ],
   "metadata": {
    "collapsed": false,
    "ExecuteTime": {
     "end_time": "2024-03-15T07:11:40.536664Z",
     "start_time": "2024-03-15T07:11:40.523539Z"
    }
   },
   "id": "67f25b2226b5b3d2",
   "execution_count": 30
  },
  {
   "cell_type": "code",
   "outputs": [],
   "source": [],
   "metadata": {
    "collapsed": false
   },
   "id": "b3fb962adb19a071"
  }
 ],
 "metadata": {
  "kernelspec": {
   "display_name": "Python 3",
   "language": "python",
   "name": "python3"
  },
  "language_info": {
   "codemirror_mode": {
    "name": "ipython",
    "version": 2
   },
   "file_extension": ".py",
   "mimetype": "text/x-python",
   "name": "python",
   "nbconvert_exporter": "python",
   "pygments_lexer": "ipython2",
   "version": "2.7.6"
  }
 },
 "nbformat": 4,
 "nbformat_minor": 5
}
